{
 "cells": [
  {
   "cell_type": "code",
   "execution_count": 1,
   "metadata": {},
   "outputs": [],
   "source": [
    "import hashlib as hasher\n",
    "import hashlib\n",
    "\n",
    "\n",
    "class Block:\n",
    "    def __init__(self, index, timestamp, data, previous_hash):\n",
    "        # this gets initialized whenever we create a class block\n",
    "        self.index = index\n",
    "        self.timestamp = timestamp\n",
    "        self.data = data\n",
    "        self.previous_hash = previous_hash\n",
    "        self.hash = self.hash_block()\n",
    "  \n",
    "    def hash_block(self):\n",
    "        sha = hasher.sha256()\n",
    "        sha.update(str(self.index).encode('utf-8') + \n",
    "                   str(self.timestamp).encode('utf-8') +\n",
    "                   str(self.data).encode('utf-8') + \n",
    "                   #hash.update(('%s%s' % (password_salt, password)).encode('utf-8'))\n",
    "                   str(self.previous_hash).encode('utf-8'))\n",
    "        return sha.hexdigest()\n",
    "    \n",
    "\n"
   ]
  },
  {
   "cell_type": "code",
   "execution_count": 2,
   "metadata": {},
   "outputs": [],
   "source": [
    "import datetime as date\n",
    "\n",
    "def create_genesis_block():\n",
    "    # Manually construct a block with\n",
    "    # index zero and arbitrary previous hash\n",
    "    return Block(0, date.datetime.now(), \"Genesis Block\", \"0\")"
   ]
  },
  {
   "cell_type": "code",
   "execution_count": 3,
   "metadata": {},
   "outputs": [],
   "source": [
    "#x = create_genesis_block()\n",
    "#x.data"
   ]
  },
  {
   "cell_type": "code",
   "execution_count": 4,
   "metadata": {},
   "outputs": [],
   "source": [
    "\n",
    "def next_block(last_block):\n",
    "    this_index = last_block.index + 1\n",
    "    this_timestamp = date.datetime.now()\n",
    "    this_data = \"Hey! I'm block \" + str(this_index)\n",
    "    this_hash = last_block.hash\n",
    "    return Block(this_index, this_timestamp, this_data, this_hash)"
   ]
  },
  {
   "cell_type": "code",
   "execution_count": 5,
   "metadata": {},
   "outputs": [
    {
     "name": "stdout",
     "output_type": "stream",
     "text": [
      "Block #1 has been added to the blockchain!\n",
      "Hash: 5754ebc00e5e024df863a9f5eef133ee8ac8aca300edfda2d62544f829eb5a17\n",
      "\n",
      "Block #2 has been added to the blockchain!\n",
      "Hash: 3bb4f7a678f6ccb1d89cb3b5a015b23004559b82e5ca71b265dbf34369509b06\n",
      "\n",
      "Block #3 has been added to the blockchain!\n",
      "Hash: fff0b82388bacb1ed94c3beff88a2b24bc6046f5d762242da1f10fa10b2034c8\n",
      "\n",
      "Block #4 has been added to the blockchain!\n",
      "Hash: 8a526cca63218bb3f836c1a9728f2ad8adebab1a6a01c00c652674fafd1e4297\n",
      "\n",
      "Block #5 has been added to the blockchain!\n",
      "Hash: ed95f7b852ea4f608bc4e706bd978f9c46b370497b2dd28cb802924e515f9c1b\n",
      "\n",
      "Block #6 has been added to the blockchain!\n",
      "Hash: fe8dc6af0dd88bf3bfc309702694a99c3a5684d48a6bdaa232b3d51bcb44fe6a\n",
      "\n",
      "Block #7 has been added to the blockchain!\n",
      "Hash: ae4d209e19c9ae8864e2dc2497feccbab2bda6581adec8fa045ed844be96e93e\n",
      "\n",
      "Block #8 has been added to the blockchain!\n",
      "Hash: 84123dfd466a0bd9ccda86c2a7da4ca1426c7247ce03d353fb5bd71b99c18218\n",
      "\n",
      "Block #9 has been added to the blockchain!\n",
      "Hash: 46111a1f1762b4357b5df4ca2d604e9ec16aa6fe7ce9e55a06f090022c1771f3\n",
      "\n",
      "Block #10 has been added to the blockchain!\n",
      "Hash: 343aebc0b2e909d37f526bf3a118815ab7fd0ef3e8c524d9c7f5698d86ab2827\n",
      "\n",
      "Block #11 has been added to the blockchain!\n",
      "Hash: 3ab22daca88b81ce4372dd524cb7b7ccc2b9b6b70095dd99f3689a8f3da14975\n",
      "\n",
      "Block #12 has been added to the blockchain!\n",
      "Hash: 67066deae755e69c42c8c66e892d80ee5ee5cf757bd4e364620c985799207ea0\n",
      "\n",
      "Block #13 has been added to the blockchain!\n",
      "Hash: 1800916391d7612e6b39d98e914fe6831a79692e3a812466b9736681ff3326ee\n",
      "\n",
      "Block #14 has been added to the blockchain!\n",
      "Hash: 762cf63e83648d554fae3550ac8cb9391924ed88c15757e05c72f3d2e28e0899\n",
      "\n",
      "Block #15 has been added to the blockchain!\n",
      "Hash: 0b9e9322da9e7a3e6d0aa9c5bef46c9dfb166a7ef8d06a76eb6effd39feb1c79\n",
      "\n",
      "Block #16 has been added to the blockchain!\n",
      "Hash: 06de7fa6c97afe7d2b21d947d538121b417cf140d67f2bdb35b89d41f843f6d5\n",
      "\n",
      "Block #17 has been added to the blockchain!\n",
      "Hash: 2f3254c668b6e2a907400b88023a1f661f1b1ccb82096f2271c8bc8031bf87df\n",
      "\n",
      "Block #18 has been added to the blockchain!\n",
      "Hash: 04dbf4ba3398c79f7ab43d5464a36e4f657f6c6af2b44ff27afb132d717d78d4\n",
      "\n",
      "Block #19 has been added to the blockchain!\n",
      "Hash: b7753ed62c365115e7c13c64df45b833495034331ecfbe00fa04a25c1a8293ec\n",
      "\n",
      "Block #20 has been added to the blockchain!\n",
      "Hash: d6614f775cca52f613790c306ed2aeeedace2573dcfd199f5fbea7028d137a45\n",
      "\n"
     ]
    }
   ],
   "source": [
    "\n",
    "# Create the blockchain and add the genesis block\n",
    "blockchain = [create_genesis_block()]\n",
    "previous_block = blockchain[0]\n",
    "\n",
    "# How many blocks should we add to the chain\n",
    "# after the genesis block\n",
    "num_of_blocks_to_add = 20\n",
    "\n",
    "# Add blocks to the chain\n",
    "for i in range(0, num_of_blocks_to_add):\n",
    "    block_to_add = next_block(previous_block)\n",
    "    blockchain.append(block_to_add)\n",
    "    previous_block = block_to_add\n",
    "    # Tell everyone about it!\n",
    "    print (\"Block #{} has been added to the blockchain!\".format(block_to_add.index))\n",
    "    print (\"Hash: {}\\n\".format(block_to_add.hash)) "
   ]
  },
  {
   "cell_type": "code",
   "execution_count": 8,
   "metadata": {},
   "outputs": [
    {
     "data": {
      "text/plain": [
       "'2f3254c668b6e2a907400b88023a1f661f1b1ccb82096f2271c8bc8031bf87df'"
      ]
     },
     "execution_count": 8,
     "metadata": {},
     "output_type": "execute_result"
    }
   ],
   "source": [
    "blockchain[17].hash"
   ]
  },
  {
   "cell_type": "code",
   "execution_count": 7,
   "metadata": {},
   "outputs": [],
   "source": [
    "#Next Class"
   ]
  },
  {
   "cell_type": "markdown",
   "metadata": {},
   "source": [
    "PS C:\\Users\\xxx.XXX> curl.exe \"http://localhost:5000/txion\" -H \"Content-Type: application/json\" -d '{\\\"from\\\":\\\"akjflw\\\"\n",
    ", \\\"to\\\":\\\"fjlakdj\\\", \\\"amount\\\": 33333333}'\n",
    "Transaction submission successful\n",
    "PS C:\\Users\\xxx.XXX>"
   ]
  },
  {
   "cell_type": "markdown",
   "metadata": {},
   "source": [
    "Transaction submission successful\n",
    "PS C:\\Users\\xxx.XXX> curl.exe localhost:5000/mine\n",
    "{\"index\": 1, \"data\": {\"transactions\": [{\"to\": \"fjlakdj\", \"amount\": 33333333, \"from\": \"akjflw\"}, {\"to\": \"q3nf394hjg-rando\n",
    "m-miner-address-34nf3i4nflkn3oi\", \"amount\": 1, \"from\": \"network\"}], \"proof-of-work\": 18}, \"hash\": \"8147405df8157b6db4a0c\n",
    "1c98750a4ff2b98104a276442e78e1ad1719b9ecd1c\", \"timestamp\": \"2018-02-26 13:07:54.887000\"}\n",
    "PS C:\\Users\\xxx.XXX>\n"
   ]
  },
  {
   "cell_type": "code",
   "execution_count": 9,
   "metadata": {},
   "outputs": [],
   "source": [
    "\n",
    "last_block = blockchain[20]\n",
    "this_index = last_block.index + 1\n",
    "this_timestamp = date.datetime.now()\n",
    "this_data = \"Hey! It is pain to add a new block\" + str(this_index)\n",
    "this_hash = last_block.hash\n",
    "currentblock = Block(this_index, this_timestamp, this_data, this_hash)\n",
    "blockchain.append(currentblock)"
   ]
  },
  {
   "cell_type": "code",
   "execution_count": 10,
   "metadata": {},
   "outputs": [
    {
     "data": {
      "text/plain": [
       "'Hey! It is pain to add a new block21'"
      ]
     },
     "execution_count": 10,
     "metadata": {},
     "output_type": "execute_result"
    }
   ],
   "source": [
    "blockchain[21].data"
   ]
  },
  {
   "cell_type": "code",
   "execution_count": null,
   "metadata": {},
   "outputs": [],
   "source": []
  }
 ],
 "metadata": {
  "kernelspec": {
   "display_name": "Python 3",
   "language": "python",
   "name": "python3"
  },
  "language_info": {
   "codemirror_mode": {
    "name": "ipython",
    "version": 3
   },
   "file_extension": ".py",
   "mimetype": "text/x-python",
   "name": "python",
   "nbconvert_exporter": "python",
   "pygments_lexer": "ipython3",
   "version": "3.5.4"
  }
 },
 "nbformat": 4,
 "nbformat_minor": 2
}
