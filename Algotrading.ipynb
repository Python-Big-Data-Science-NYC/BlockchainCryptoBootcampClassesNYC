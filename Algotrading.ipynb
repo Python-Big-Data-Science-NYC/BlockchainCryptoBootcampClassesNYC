{
 "cells": [
  {
   "cell_type": "code",
   "execution_count": 8,
   "metadata": {},
   "outputs": [
    {
     "name": "stdout",
     "output_type": "stream",
     "text": [
      "Collecting zipline\n",
      "\u001b[?25l  Downloading https://files.pythonhosted.org/packages/15/d3/689f2a940478b82ac57c751a40460598221fd82b0449a7a8f7eef47a3bcc/zipline-1.2.0.tar.gz (659kB)\n",
      "\u001b[K    100% |████████████████████████████████| 665kB 6.6MB/s eta 0:00:01\n",
      "\u001b[?25hRequirement already satisfied: pip>=7.1.0 in /home/nbuser/anaconda3_501/lib/python3.6/site-packages (from zipline) (10.0.1)\n",
      "Requirement already satisfied: setuptools>18.0 in /home/nbuser/anaconda3_501/lib/python3.6/site-packages (from zipline) (39.2.0)\n",
      "Collecting Logbook>=0.12.5 (from zipline)\n",
      "\u001b[?25l  Downloading https://files.pythonhosted.org/packages/36/4b/b610bee18d5cfc4cec7dde056639994e9b34991e4c57816bfff0f3d0ac33/Logbook-1.4.0.tar.gz (84kB)\n",
      "\u001b[K    100% |████████████████████████████████| 92kB 11.0MB/s ta 0:00:01\n",
      "\u001b[?25hRequirement already satisfied: pytz>=2016.4 in /home/nbuser/anaconda3_501/lib/python3.6/site-packages (from zipline) (2017.2)\n",
      "Requirement already satisfied: numpy>=1.11.1 in /home/nbuser/anaconda3_501/lib/python3.6/site-packages (from zipline) (1.14.3)\n",
      "Collecting requests-file>=1.4.1 (from zipline)\n",
      "  Downloading https://files.pythonhosted.org/packages/23/9c/6e63c23c39e53d3df41c77a3d05a49a42c4e1383a6d2a5e3233161b89dbf/requests_file-1.4.3-py2.py3-none-any.whl\n",
      "Requirement already satisfied: scipy>=0.17.1 in /home/nbuser/anaconda3_501/lib/python3.6/site-packages (from zipline) (0.19.1)\n",
      "Collecting pandas<0.19,>=0.18.1 (from zipline)\n",
      "\u001b[33m  Cache entry deserialization failed, entry ignored\u001b[0m\n",
      "\u001b[?25l  Downloading https://files.pythonhosted.org/packages/11/09/e66eb844daba8680ddff26335d5b4fead77f60f957678243549a8dd4830d/pandas-0.18.1.tar.gz (7.3MB)\n",
      "\u001b[K    100% |████████████████████████████████| 7.3MB 441kB/s eta 0:00:01\n",
      "\u001b[?25hCollecting pandas-datareader<0.6,>=0.2.1 (from zipline)\n",
      "\u001b[?25l  Downloading https://files.pythonhosted.org/packages/40/c5/cc720f531bbde0efeab940de400d0fcc95e87770a3abcd7f90d6d52a3302/pandas_datareader-0.5.0-py2.py3-none-any.whl (74kB)\n",
      "\u001b[K    100% |████████████████████████████████| 81kB 9.2MB/s eta 0:00:01\n",
      "\u001b[?25hRequirement already satisfied: patsy>=0.4.0 in /home/nbuser/anaconda3_501/lib/python3.6/site-packages (from zipline) (0.4.1)\n",
      "Requirement already satisfied: statsmodels>=0.6.1 in /home/nbuser/anaconda3_501/lib/python3.6/site-packages (from zipline) (0.8.0)\n",
      "Requirement already satisfied: python-dateutil>=2.4.2 in /home/nbuser/anaconda3_501/lib/python3.6/site-packages (from zipline) (2.6.1)\n",
      "Requirement already satisfied: six>=1.10.0 in /home/nbuser/anaconda3_501/lib/python3.6/site-packages (from zipline) (1.11.0)\n",
      "Requirement already satisfied: requests>=2.9.1 in /home/nbuser/anaconda3_501/lib/python3.6/site-packages (from zipline) (2.18.4)\n",
      "Requirement already satisfied: Cython>=0.25.2 in /home/nbuser/anaconda3_501/lib/python3.6/site-packages (from zipline) (0.26.1)\n",
      "Collecting cyordereddict>=0.2.2 (from zipline)\n",
      "\u001b[?25l  Downloading https://files.pythonhosted.org/packages/d1/1a/364cbfd927be1b743c7f0a985a7f1f7e8a51469619f9fefe4ee9240ba210/cyordereddict-1.0.0.tar.gz (138kB)\n",
      "\u001b[K    100% |████████████████████████████████| 143kB 5.8MB/s eta 0:00:01\n",
      "\u001b[?25hRequirement already satisfied: bottleneck>=1.0.0 in /home/nbuser/anaconda3_501/lib/python3.6/site-packages (from zipline) (1.2.1)\n",
      "Requirement already satisfied: contextlib2>=0.4.0 in /home/nbuser/anaconda3_501/lib/python3.6/site-packages (from zipline) (0.5.5)\n",
      "Requirement already satisfied: decorator>=4.0.0 in /home/nbuser/anaconda3_501/lib/python3.6/site-packages (from zipline) (4.1.2)\n",
      "Requirement already satisfied: networkx<2.0,>=1.9.1 in /home/nbuser/anaconda3_501/lib/python3.6/site-packages (from zipline) (1.11)\n",
      "Requirement already satisfied: numexpr>=2.6.1 in /home/nbuser/anaconda3_501/lib/python3.6/site-packages (from zipline) (2.6.2)\n",
      "Collecting bcolz<1,>=0.12.1 (from zipline)\n",
      "\u001b[?25l  Downloading https://files.pythonhosted.org/packages/6c/8b/1ffa01f872cac36173c5eb95b58c01040d8d25f1b242c48577f4104cd3ab/bcolz-0.12.1.tar.gz (622kB)\n",
      "\u001b[K    100% |████████████████████████████████| 624kB 5.7MB/s eta 0:00:01\n",
      "\u001b[?25hRequirement already satisfied: click>=4.0.0 in /home/nbuser/anaconda3_501/lib/python3.6/site-packages (from zipline) (6.7)\n",
      "Requirement already satisfied: toolz>=0.8.2 in /home/nbuser/anaconda3_501/lib/python3.6/site-packages (from zipline) (0.8.2)\n",
      "Requirement already satisfied: multipledispatch>=0.4.8 in /home/nbuser/anaconda3_501/lib/python3.6/site-packages (from zipline) (0.4.9)\n",
      "Requirement already satisfied: MarkupSafe>=0.23 in /home/nbuser/anaconda3_501/lib/python3.6/site-packages (from zipline) (1.0)\n",
      "Collecting Mako>=1.0.1 (from zipline)\n",
      "\u001b[?25l  Downloading https://files.pythonhosted.org/packages/eb/f3/67579bb486517c0d49547f9697e36582cd19dafb5df9e687ed8e22de57fa/Mako-1.0.7.tar.gz (564kB)\n",
      "\u001b[K    100% |████████████████████████████████| 573kB 5.3MB/s ta 0:00:011\n",
      "\u001b[?25hRequirement already satisfied: sqlalchemy>=1.0.8 in /home/nbuser/anaconda3_501/lib/python3.6/site-packages (from zipline) (1.1.13)\n",
      "Collecting alembic>=0.7.7 (from zipline)\n",
      "\u001b[?25l  Downloading https://files.pythonhosted.org/packages/89/03/756d5b8e1c90bf283c3f435766aa3f20208d1c3887579dd8f2122e01d5f4/alembic-0.9.9.tar.gz (1.0MB)\n",
      "\u001b[K    100% |████████████████████████████████| 1.0MB 7.2MB/s ta 0:00:011\n",
      "\u001b[?25hRequirement already satisfied: sortedcontainers>=1.4.4 in /home/nbuser/anaconda3_501/lib/python3.6/site-packages (from zipline) (1.5.7)\n",
      "Collecting intervaltree>=2.1.0 (from zipline)\n",
      "  Downloading https://files.pythonhosted.org/packages/ca/c1/450d109b70fa58ca9d77972b02f69222412f9175ccf99fdeaf167be9583c/intervaltree-2.1.0.tar.gz\n",
      "Collecting lru-dict>=1.1.4 (from zipline)\n",
      "  Downloading https://files.pythonhosted.org/packages/00/a5/32ed6e10246cd341ca8cc205acea5d208e4053f48a4dced2b1b31d45ba3f/lru-dict-1.1.6.tar.gz\n",
      "Collecting empyrical>=0.4.2 (from zipline)\n",
      "\u001b[?25l  Downloading https://files.pythonhosted.org/packages/7b/55/a01b05162b764830dbbac868462f44cd847a5b6523a01ca9f955721819da/empyrical-0.5.0.tar.gz (49kB)\n",
      "\u001b[K    100% |████████████████████████████████| 51kB 2.9MB/s ta 0:00:011\n",
      "\u001b[?25hRequirement already satisfied: tables>=3.3.0 in /home/nbuser/anaconda3_501/lib/python3.6/site-packages (from zipline) (3.4.2)\n",
      "Collecting requests-ftp (from pandas-datareader<0.6,>=0.2.1->zipline)\n",
      "  Downloading https://files.pythonhosted.org/packages/3d/ca/14b2ad1e93b5195eeaf56b86b7ecfd5ea2d5754a68d17aeb1e5b9f95b3cf/requests-ftp-0.3.1.tar.gz\n",
      "Requirement already satisfied: chardet<3.1.0,>=3.0.2 in /home/nbuser/anaconda3_501/lib/python3.6/site-packages (from requests>=2.9.1->zipline) (3.0.4)\n",
      "Requirement already satisfied: idna<2.7,>=2.5 in /home/nbuser/anaconda3_501/lib/python3.6/site-packages (from requests>=2.9.1->zipline) (2.6)\n",
      "Requirement already satisfied: urllib3<1.23,>=1.21.1 in /home/nbuser/anaconda3_501/lib/python3.6/site-packages (from requests>=2.9.1->zipline) (1.22)\n",
      "Requirement already satisfied: certifi>=2017.4.17 in /home/nbuser/anaconda3_501/lib/python3.6/site-packages (from requests>=2.9.1->zipline) (2017.7.27.1)\n",
      "Collecting python-editor>=0.3 (from alembic>=0.7.7->zipline)\n",
      "  Downloading https://files.pythonhosted.org/packages/65/1e/adf6e000ea5dc909aa420352d6ba37f16434c8a3c2fa030445411a1ed545/python-editor-1.0.3.tar.gz\n",
      "Building wheels for collected packages: zipline, Logbook, pandas, cyordereddict, bcolz, Mako, alembic, intervaltree, lru-dict, empyrical, requests-ftp, python-editor\n",
      "  Running setup.py bdist_wheel for zipline ... \u001b[?25ldone\n",
      "\u001b[?25h  Stored in directory: /home/nbuser/.cache/pip/wheels/5d/20/7d/b48368c8634b1cb6cc7232833b2780a265d4217c0ad2e3d24c\n",
      "  Running setup.py bdist_wheel for Logbook ... \u001b[?25ldone\n",
      "\u001b[?25h  Stored in directory: /home/nbuser/.cache/pip/wheels/3a/50/0d/b67da0bb2a56061970cdf37a5e95fb07d9106200f33044616e\n",
      "  Running setup.py bdist_wheel for pandas ... \u001b[?25ldone\n",
      "\u001b[?25h  Stored in directory: /home/nbuser/.cache/pip/wheels/a3/08/c3/8fdd52954d4b415624cff43c6dd32a22bac90306976a98f4af\n",
      "  Running setup.py bdist_wheel for cyordereddict ... \u001b[?25ldone\n",
      "\u001b[?25h  Stored in directory: /home/nbuser/.cache/pip/wheels/0b/9d/8b/5bf3e22c1edd59b50f11bb19dec9dfcfe5a479fc7ace02b61f\n",
      "  Running setup.py bdist_wheel for bcolz ... \u001b[?25ldone\n",
      "\u001b[?25h  Stored in directory: /home/nbuser/.cache/pip/wheels/c5/cc/1b/2cf1f88959af5d7f4d449b7fc6c9452d0ecbd86fd61a9ee376\n"
     ]
    },
    {
     "name": "stdout",
     "output_type": "stream",
     "text": [
      "  Running setup.py bdist_wheel for Mako ... \u001b[?25ldone\n",
      "\u001b[?25h  Stored in directory: /home/nbuser/.cache/pip/wheels/15/35/25/dbcb848832ccb1a4b4ad23f529badfd3bce9bf88017f7ca510\n",
      "  Running setup.py bdist_wheel for alembic ... \u001b[?25ldone\n",
      "\u001b[?25h  Stored in directory: /home/nbuser/.cache/pip/wheels/a4/8c/02/3d1795469c7fa5754f12da16847f0dc8748139edba921d8d46\n",
      "  Running setup.py bdist_wheel for intervaltree ... \u001b[?25ldone\n",
      "\u001b[?25h  Stored in directory: /home/nbuser/.cache/pip/wheels/6b/cf/b0/f7ef2d0f504d26f3e9e70c2369e5725591ccfaf67d528fcbc5\n",
      "  Running setup.py bdist_wheel for lru-dict ... \u001b[?25ldone\n",
      "\u001b[?25h  Stored in directory: /home/nbuser/.cache/pip/wheels/b7/ef/06/fbdd555907a7d438fb33e4c8675f771ff1cf41917284c51ebf\n",
      "  Running setup.py bdist_wheel for empyrical ... \u001b[?25ldone\n",
      "\u001b[?25h  Stored in directory: /home/nbuser/.cache/pip/wheels/83/14/73/34fb27552601518d28bd0813d75124be76d94ab29152c69112\n",
      "  Running setup.py bdist_wheel for requests-ftp ... \u001b[?25ldone\n",
      "\u001b[?25h  Stored in directory: /home/nbuser/.cache/pip/wheels/2a/98/32/37195e45a3392a73d9f65c488cbea30fe5bad76aaef4d6b020\n",
      "  Running setup.py bdist_wheel for python-editor ... \u001b[?25ldone\n",
      "\u001b[?25h  Stored in directory: /home/nbuser/.cache/pip/wheels/36/e0/98/ba386b125a00ea9dd52e2c16aa2ec0adbbd639b84bfe2e001d\n",
      "Successfully built zipline Logbook pandas cyordereddict bcolz Mako alembic intervaltree lru-dict empyrical requests-ftp python-editor\n",
      "Installing collected packages: Logbook, requests-file, pandas, requests-ftp, pandas-datareader, cyordereddict, bcolz, Mako, python-editor, alembic, intervaltree, lru-dict, empyrical, zipline\n",
      "  Found existing installation: pandas 0.20.3\n",
      "    Uninstalling pandas-0.20.3:\n",
      "      Successfully uninstalled pandas-0.20.3\n",
      "Successfully installed Logbook-1.4.0 Mako-1.0.7 alembic-0.9.9 bcolz-0.12.1 cyordereddict-1.0.0 empyrical-0.5.0 intervaltree-2.1.0 lru-dict-1.1.6 pandas-0.18.1 pandas-datareader-0.5.0 python-editor-1.0.3 requests-file-1.4.3 requests-ftp-0.3.1 zipline-1.2.0\n"
     ]
    }
   ],
   "source": [
    "#!pip install slippage\n",
    "!pip install zipline"
   ]
  },
  {
   "cell_type": "code",
   "execution_count": 13,
   "metadata": {},
   "outputs": [
    {
     "name": "stdout",
     "output_type": "stream",
     "text": [
      "Collecting Slippage\n",
      "\u001b[31m  Could not find a version that satisfies the requirement Slippage (from versions: )\u001b[0m\n",
      "\u001b[31mNo matching distribution found for Slippage\u001b[0m\n"
     ]
    }
   ],
   "source": [
    "# !pip install lippage"
   ]
  },
  {
   "cell_type": "code",
   "execution_count": 6,
   "metadata": {},
   "outputs": [
    {
     "name": "stdout",
     "output_type": "stream",
     "text": [
      "Requirement already satisfied: Flask in /home/nbuser/anaconda3_501/lib/python3.6/site-packages (0.12.2)\n",
      "Requirement already satisfied: Werkzeug>=0.7 in /home/nbuser/anaconda3_501/lib/python3.6/site-packages (from Flask) (0.12.2)\n",
      "Requirement already satisfied: Jinja2>=2.4 in /home/nbuser/anaconda3_501/lib/python3.6/site-packages (from Flask) (2.9.6)\n",
      "Requirement already satisfied: itsdangerous>=0.21 in /home/nbuser/anaconda3_501/lib/python3.6/site-packages (from Flask) (0.24)\n",
      "Requirement already satisfied: click>=2.0 in /home/nbuser/anaconda3_501/lib/python3.6/site-packages (from Flask) (6.7)\n",
      "Requirement already satisfied: MarkupSafe>=0.23 in /home/nbuser/anaconda3_501/lib/python3.6/site-packages (from Jinja2>=2.4->Flask) (1.0)\n"
     ]
    }
   ],
   "source": [
    "!pip install Flask"
   ]
  },
  {
   "cell_type": "code",
   "execution_count": 2,
   "metadata": {},
   "outputs": [
    {
     "name": "stdout",
     "output_type": "stream",
     "text": [
      "Collecting pyalgotrade\n",
      "\u001b[?25l  Downloading https://files.pythonhosted.org/packages/3a/be/cb24114474c59337e529568cb5b15e5ff322e07a233838a56d7e45b92944/PyAlgoTrade-0.18.tar.gz (83kB)\n",
      "\u001b[K    100% |████████████████████████████████| 92kB 3.1MB/s ta 0:00:01\n",
      "\u001b[?25hRequirement already satisfied: numpy in /home/nbuser/anaconda3_501/lib/python3.6/site-packages (from pyalgotrade) (1.14.3)\n",
      "Requirement already satisfied: pytz in /home/nbuser/anaconda3_501/lib/python3.6/site-packages (from pyalgotrade) (2017.2)\n",
      "Requirement already satisfied: python-dateutil in /home/nbuser/anaconda3_501/lib/python3.6/site-packages (from pyalgotrade) (2.6.1)\n",
      "Requirement already satisfied: requests in /home/nbuser/anaconda3_501/lib/python3.6/site-packages (from pyalgotrade) (2.18.4)\n",
      "Requirement already satisfied: six>=1.5 in /home/nbuser/anaconda3_501/lib/python3.6/site-packages (from python-dateutil->pyalgotrade) (1.11.0)\n",
      "Requirement already satisfied: chardet<3.1.0,>=3.0.2 in /home/nbuser/anaconda3_501/lib/python3.6/site-packages (from requests->pyalgotrade) (3.0.4)\n",
      "Requirement already satisfied: idna<2.7,>=2.5 in /home/nbuser/anaconda3_501/lib/python3.6/site-packages (from requests->pyalgotrade) (2.6)\n",
      "Requirement already satisfied: urllib3<1.23,>=1.21.1 in /home/nbuser/anaconda3_501/lib/python3.6/site-packages (from requests->pyalgotrade) (1.22)\n",
      "Requirement already satisfied: certifi>=2017.4.17 in /home/nbuser/anaconda3_501/lib/python3.6/site-packages (from requests->pyalgotrade) (2017.7.27.1)\n",
      "Building wheels for collected packages: pyalgotrade\n",
      "  Running setup.py bdist_wheel for pyalgotrade ... \u001b[?25ldone\n",
      "\u001b[?25h  Stored in directory: /home/nbuser/.cache/pip/wheels/f2/c8/05/08b755a263c62ffeb8eb41f93b1aa66a6ca3f968ac12decd88\n",
      "Successfully built pyalgotrade\n",
      "Installing collected packages: pyalgotrade\n",
      "Successfully installed pyalgotrade-0.18\n"
     ]
    }
   ],
   "source": [
    "!pip install pyalgotrade"
   ]
  },
  {
   "cell_type": "code",
   "execution_count": 21,
   "metadata": {},
   "outputs": [],
   "source": [
    "# python -c \"from pyalgotrade.tools import yahoofinance; yahoofinance.download_daily_bars('orcl', 2000, 'orcl-2000.csv')\"\n",
    "\n"
   ]
  },
  {
   "cell_type": "code",
   "execution_count": 22,
   "metadata": {},
   "outputs": [
    {
     "name": "stdout",
     "output_type": "stream",
     "text": [
      "Requirement already satisfied: pyalgotrade in /home/nbuser/anaconda3_501/lib/python3.6/site-packages (0.18)\n",
      "Requirement already satisfied: python-dateutil in /home/nbuser/anaconda3_501/lib/python3.6/site-packages (from pyalgotrade) (2.6.1)\n",
      "Requirement already satisfied: numpy in /home/nbuser/anaconda3_501/lib/python3.6/site-packages (from pyalgotrade) (1.14.3)\n",
      "Requirement already satisfied: pytz in /home/nbuser/anaconda3_501/lib/python3.6/site-packages (from pyalgotrade) (2017.2)\n",
      "Requirement already satisfied: requests in /home/nbuser/anaconda3_501/lib/python3.6/site-packages (from pyalgotrade) (2.18.4)\n",
      "Requirement already satisfied: six>=1.5 in /home/nbuser/anaconda3_501/lib/python3.6/site-packages (from python-dateutil->pyalgotrade) (1.11.0)\n",
      "Requirement already satisfied: chardet<3.1.0,>=3.0.2 in /home/nbuser/anaconda3_501/lib/python3.6/site-packages (from requests->pyalgotrade) (3.0.4)\n",
      "Requirement already satisfied: idna<2.7,>=2.5 in /home/nbuser/anaconda3_501/lib/python3.6/site-packages (from requests->pyalgotrade) (2.6)\n",
      "Requirement already satisfied: urllib3<1.23,>=1.21.1 in /home/nbuser/anaconda3_501/lib/python3.6/site-packages (from requests->pyalgotrade) (1.22)\n",
      "Requirement already satisfied: certifi>=2017.4.17 in /home/nbuser/anaconda3_501/lib/python3.6/site-packages (from requests->pyalgotrade) (2017.7.27.1)\n"
     ]
    }
   ],
   "source": [
    "!pip install pyalgotrade"
   ]
  },
  {
   "cell_type": "code",
   "execution_count": 30,
   "metadata": {},
   "outputs": [
    {
     "ename": "SyntaxError",
     "evalue": "invalid syntax (yahoofinance.py, line 119)",
     "output_type": "error",
     "traceback": [
      "Traceback \u001b[0;36m(most recent call last)\u001b[0m:\n",
      "  File \u001b[1;32m\"/home/nbuser/anaconda3_501/lib/python3.6/site-packages/IPython/core/interactiveshell.py\"\u001b[0m, line \u001b[1;32m2910\u001b[0m, in \u001b[1;35mrun_code\u001b[0m\n    exec(code_obj, self.user_global_ns, self.user_ns)\n",
      "\u001b[0;36m  File \u001b[0;32m\"<ipython-input-30-0b67d2625b60>\"\u001b[0;36m, line \u001b[0;32m1\u001b[0;36m, in \u001b[0;35m<module>\u001b[0;36m\u001b[0m\n\u001b[0;31m    from pyalgotrade.tools import yahoofinance\u001b[0m\n",
      "\u001b[0;36m  File \u001b[0;32m\"/home/nbuser/anaconda3_501/lib/python3.6/site-packages/pyalgotrade/tools/yahoofinance.py\"\u001b[0;36m, line \u001b[0;32m119\u001b[0m\n\u001b[0;31m    except Exception, e:\u001b[0m\n\u001b[0m                    ^\u001b[0m\n\u001b[0;31mSyntaxError\u001b[0m\u001b[0;31m:\u001b[0m invalid syntax\n"
     ]
    }
   ],
   "source": [
    "from pyalgotrade.tools import yahoofinance\n",
    "\n",
    "#yahoofinance.download_daily_bars('orcl', 2000, 'orcl-2000.csv')"
   ]
  },
  {
   "cell_type": "code",
   "execution_count": 31,
   "metadata": {},
   "outputs": [
    {
     "name": "stdout",
     "output_type": "stream",
     "text": [
      "Traceback (most recent call last):\r\n",
      "  File \"<string>\", line 1, in <module>\r\n",
      "  File \"/home/nbuser/anaconda3_501/lib/python3.6/site-packages/pyalgotrade/tools/googlefinance.py\", line 105\r\n",
      "    except Exception, e:\r\n",
      "                    ^\r\n",
      "SyntaxError: invalid syntax\r\n"
     ]
    }
   ],
   "source": [
    "!python -c \"from pyalgotrade.tools import googlefinance; googlefinance.download_daily_bars('orcl', 2000, 'orcl-2000.csv')\"\n"
   ]
  },
  {
   "cell_type": "code",
   "execution_count": 29,
   "metadata": {},
   "outputs": [
    {
     "ename": "ModuleNotFoundError",
     "evalue": "No module named 'slippage'",
     "output_type": "error",
     "traceback": [
      "\u001b[0;31m---------------------------------------------------------------------------\u001b[0m",
      "\u001b[0;31mModuleNotFoundError\u001b[0m                       Traceback (most recent call last)",
      "\u001b[0;32m<ipython-input-29-57d862500a89>\u001b[0m in \u001b[0;36m<module>\u001b[0;34m()\u001b[0m\n\u001b[0;32m----> 1\u001b[0;31m \u001b[0;32mfrom\u001b[0m \u001b[0mpyalgotrade\u001b[0m \u001b[0;32mimport\u001b[0m \u001b[0mstrategy\u001b[0m\u001b[0;34m\u001b[0m\u001b[0m\n\u001b[0m\u001b[1;32m      2\u001b[0m \u001b[0;32mfrom\u001b[0m \u001b[0mpyalgotrade\u001b[0m\u001b[0;34m.\u001b[0m\u001b[0mbarfeed\u001b[0m \u001b[0;32mimport\u001b[0m \u001b[0myahoofeed\u001b[0m\u001b[0;34m\u001b[0m\u001b[0m\n\u001b[1;32m      3\u001b[0m \u001b[0;34m\u001b[0m\u001b[0m\n\u001b[1;32m      4\u001b[0m \u001b[0;34m\u001b[0m\u001b[0m\n\u001b[1;32m      5\u001b[0m \u001b[0;32mclass\u001b[0m \u001b[0mMyStrategy\u001b[0m\u001b[0;34m(\u001b[0m\u001b[0mstrategy\u001b[0m\u001b[0;34m.\u001b[0m\u001b[0mBacktestingStrategy\u001b[0m\u001b[0;34m)\u001b[0m\u001b[0;34m:\u001b[0m\u001b[0;34m\u001b[0m\u001b[0m\n",
      "\u001b[0;32m~/anaconda3_501/lib/python3.6/site-packages/pyalgotrade/strategy/__init__.py\u001b[0m in \u001b[0;36m<module>\u001b[0;34m()\u001b[0m\n\u001b[1;32m     23\u001b[0m \u001b[0;34m\u001b[0m\u001b[0m\n\u001b[1;32m     24\u001b[0m \u001b[0;32mimport\u001b[0m \u001b[0mpyalgotrade\u001b[0m\u001b[0;34m.\u001b[0m\u001b[0mbroker\u001b[0m\u001b[0;34m\u001b[0m\u001b[0m\n\u001b[0;32m---> 25\u001b[0;31m \u001b[0;32mfrom\u001b[0m \u001b[0mpyalgotrade\u001b[0m\u001b[0;34m.\u001b[0m\u001b[0mbroker\u001b[0m \u001b[0;32mimport\u001b[0m \u001b[0mbacktesting\u001b[0m\u001b[0;34m\u001b[0m\u001b[0m\n\u001b[0m\u001b[1;32m     26\u001b[0m \u001b[0;32mfrom\u001b[0m \u001b[0mpyalgotrade\u001b[0m \u001b[0;32mimport\u001b[0m \u001b[0mobserver\u001b[0m\u001b[0;34m\u001b[0m\u001b[0m\n\u001b[1;32m     27\u001b[0m \u001b[0;32mfrom\u001b[0m \u001b[0mpyalgotrade\u001b[0m \u001b[0;32mimport\u001b[0m \u001b[0mdispatcher\u001b[0m\u001b[0;34m\u001b[0m\u001b[0m\n",
      "\u001b[0;32m~/anaconda3_501/lib/python3.6/site-packages/pyalgotrade/broker/backtesting.py\u001b[0m in \u001b[0;36m<module>\u001b[0;34m()\u001b[0m\n\u001b[1;32m     22\u001b[0m \u001b[0;34m\u001b[0m\u001b[0m\n\u001b[1;32m     23\u001b[0m \u001b[0;32mfrom\u001b[0m \u001b[0mpyalgotrade\u001b[0m \u001b[0;32mimport\u001b[0m \u001b[0mbroker\u001b[0m\u001b[0;34m\u001b[0m\u001b[0m\n\u001b[0;32m---> 24\u001b[0;31m \u001b[0;32mfrom\u001b[0m \u001b[0mpyalgotrade\u001b[0m\u001b[0;34m.\u001b[0m\u001b[0mbroker\u001b[0m \u001b[0;32mimport\u001b[0m \u001b[0mfillstrategy\u001b[0m\u001b[0;34m\u001b[0m\u001b[0m\n\u001b[0m\u001b[1;32m     25\u001b[0m \u001b[0;32mfrom\u001b[0m \u001b[0mpyalgotrade\u001b[0m \u001b[0;32mimport\u001b[0m \u001b[0mlogger\u001b[0m\u001b[0;34m\u001b[0m\u001b[0m\n\u001b[1;32m     26\u001b[0m \u001b[0;32mimport\u001b[0m \u001b[0mpyalgotrade\u001b[0m\u001b[0;34m.\u001b[0m\u001b[0mbar\u001b[0m\u001b[0;34m\u001b[0m\u001b[0m\n",
      "\u001b[0;32m~/anaconda3_501/lib/python3.6/site-packages/pyalgotrade/broker/fillstrategy.py\u001b[0m in \u001b[0;36m<module>\u001b[0;34m()\u001b[0m\n\u001b[1;32m     23\u001b[0m \u001b[0;32mfrom\u001b[0m \u001b[0mpyalgotrade\u001b[0m \u001b[0;32mimport\u001b[0m \u001b[0mbroker\u001b[0m\u001b[0;34m\u001b[0m\u001b[0m\n\u001b[1;32m     24\u001b[0m \u001b[0;32mimport\u001b[0m \u001b[0mpyalgotrade\u001b[0m\u001b[0;34m.\u001b[0m\u001b[0mbar\u001b[0m\u001b[0;34m\u001b[0m\u001b[0m\n\u001b[0;32m---> 25\u001b[0;31m \u001b[0;32mimport\u001b[0m \u001b[0mslippage\u001b[0m\u001b[0;34m\u001b[0m\u001b[0m\n\u001b[0m\u001b[1;32m     26\u001b[0m \u001b[0;34m\u001b[0m\u001b[0m\n\u001b[1;32m     27\u001b[0m \u001b[0;34m\u001b[0m\u001b[0m\n",
      "\u001b[0;31mModuleNotFoundError\u001b[0m: No module named 'slippage'"
     ]
    }
   ],
   "source": [
    "from pyalgotrade import strategy\n",
    "from pyalgotrade.barfeed import yahoofeed\n",
    "\n",
    "\n",
    "class MyStrategy(strategy.BacktestingStrategy):\n",
    "    def __init__(self, feed, instrument):\n",
    "        super(MyStrategy, self).__init__(feed)\n",
    "        self.__instrument = instrument\n",
    "\n",
    "    def onBars(self, bars):\n",
    "        bar = bars[self.__instrument]\n",
    "        self.info(bar.getClose())\n",
    "\n",
    "# Load the yahoo feed from the CSV file\n",
    "feed = yahoofeed.Feed()\n",
    "feed.addBarsFromCSV(\"orcl\", \"orcl-2000.csv\")\n",
    "\n",
    "# Evaluate the strategy with the feed's bars.\n",
    "myStrategy = MyStrategy(feed, \"orcl\")\n",
    "myStrategy.run()"
   ]
  },
  {
   "cell_type": "code",
   "execution_count": 28,
   "metadata": {},
   "outputs": [],
   "source": [
    "from zipline.api import order_target, record, symbol\n",
    "\n",
    "def initialize(context):\n",
    "    context.i = 0\n",
    "    context.asset = symbol('AAPL')\n",
    "\n",
    "\n",
    "def handle_data(context, data):\n",
    "    # Skip first 300 days to get full windows\n",
    "    context.i += 1\n",
    "    if context.i < 300:\n",
    "        return\n",
    "\n",
    "    # Compute averages\n",
    "    # data.history() has to be called with the same params\n",
    "    # from above and returns a pandas dataframe.\n",
    "    short_mavg = data.history(context.asset, 'price', bar_count=100, frequency=\"1d\").mean()\n",
    "    long_mavg = data.history(context.asset, 'price', bar_count=300, frequency=\"1d\").mean()\n",
    "\n",
    "    # Trading logic\n",
    "    if short_mavg > long_mavg:\n",
    "        # order_target orders as many shares as needed to\n",
    "        # achieve the desired number of shares.\n",
    "        order_target(context.asset, 100)\n",
    "    elif short_mavg < long_mavg:\n",
    "        order_target(context.asset, 0)\n",
    "\n",
    "    # Save values for later inspection\n",
    "    record(AAPL=data.current(context.asset, 'price'),\n",
    "           short_mavg=short_mavg,\n",
    "           long_mavg=long_mavg)"
   ]
  },
  {
   "cell_type": "code",
   "execution_count": 32,
   "metadata": {},
   "outputs": [
    {
     "name": "stdout",
     "output_type": "stream",
     "text": [
      "Traceback (most recent call last):\r\n",
      "  File \"<string>\", line 1, in <module>\r\n",
      "  File \"/home/nbuser/anaconda3_501/lib/python3.6/site-packages/pyalgotrade/tools/yahoofinance.py\", line 119\r\n",
      "    except Exception, e:\r\n",
      "                    ^\r\n",
      "SyntaxError: invalid syntax\r\n"
     ]
    }
   ],
   "source": [
    "!python -c \"from pyalgotrade.tools import yahoofinance; yahoofinance.download_daily_bars('orcl', 2000, 'orcl-2000.csv')\"\n",
    "\n"
   ]
  },
  {
   "cell_type": "code",
   "execution_count": 2,
   "metadata": {},
   "outputs": [
    {
     "name": "stdout",
     "output_type": "stream",
     "text": [
      "Collecting pyalgotrade\n",
      "\u001b[?25l  Downloading https://files.pythonhosted.org/packages/3a/be/cb24114474c59337e529568cb5b15e5ff322e07a233838a56d7e45b92944/PyAlgoTrade-0.18.tar.gz (83kB)\n",
      "\u001b[K    100% |████████████████████████████████| 92kB 1.9MB/s ta 0:00:01\n",
      "\u001b[?25hRequirement already satisfied: numpy in /home/nbuser/anaconda3_501/lib/python3.6/site-packages (from pyalgotrade) (1.14.3)\n",
      "Requirement already satisfied: pytz in /home/nbuser/anaconda3_501/lib/python3.6/site-packages (from pyalgotrade) (2017.2)\n",
      "Requirement already satisfied: python-dateutil in /home/nbuser/anaconda3_501/lib/python3.6/site-packages (from pyalgotrade) (2.6.1)\n",
      "Requirement already satisfied: requests in /home/nbuser/anaconda3_501/lib/python3.6/site-packages (from pyalgotrade) (2.18.4)\n",
      "Requirement already satisfied: six>=1.5 in /home/nbuser/anaconda3_501/lib/python3.6/site-packages (from python-dateutil->pyalgotrade) (1.11.0)\n",
      "Requirement already satisfied: chardet<3.1.0,>=3.0.2 in /home/nbuser/anaconda3_501/lib/python3.6/site-packages (from requests->pyalgotrade) (3.0.4)\n",
      "Requirement already satisfied: idna<2.7,>=2.5 in /home/nbuser/anaconda3_501/lib/python3.6/site-packages (from requests->pyalgotrade) (2.6)\n",
      "Requirement already satisfied: urllib3<1.23,>=1.21.1 in /home/nbuser/anaconda3_501/lib/python3.6/site-packages (from requests->pyalgotrade) (1.22)\n",
      "Requirement already satisfied: certifi>=2017.4.17 in /home/nbuser/anaconda3_501/lib/python3.6/site-packages (from requests->pyalgotrade) (2017.7.27.1)\n",
      "Building wheels for collected packages: pyalgotrade\n",
      "  Running setup.py bdist_wheel for pyalgotrade ... \u001b[?25ldone\n",
      "\u001b[?25h  Stored in directory: /home/nbuser/.cache/pip/wheels/f2/c8/05/08b755a263c62ffeb8eb41f93b1aa66a6ca3f968ac12decd88\n",
      "Successfully built pyalgotrade\n",
      "Installing collected packages: pyalgotrade\n",
      "Successfully installed pyalgotrade-0.18\n"
     ]
    }
   ],
   "source": [
    "!pip install pyalgotrade\n"
   ]
  },
  {
   "cell_type": "code",
   "execution_count": null,
   "metadata": {},
   "outputs": [],
   "source": []
  }
 ],
 "metadata": {
  "kernelspec": {
   "display_name": "Python 3.6",
   "language": "python",
   "name": "python36"
  },
  "language_info": {
   "codemirror_mode": {
    "name": "ipython",
    "version": 3
   },
   "file_extension": ".py",
   "mimetype": "text/x-python",
   "name": "python",
   "nbconvert_exporter": "python",
   "pygments_lexer": "ipython3",
   "version": "3.6.3"
  }
 },
 "nbformat": 4,
 "nbformat_minor": 2
}
