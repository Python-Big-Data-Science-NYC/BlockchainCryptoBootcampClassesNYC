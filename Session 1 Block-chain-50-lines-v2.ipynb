{
 "cells": [
  {
   "cell_type": "code",
   "execution_count": 1,
   "metadata": {},
   "outputs": [],
   "source": [
    "import hashlib as hasher\n",
    "import hashlib\n",
    "\n",
    "\n",
    "class Block:\n",
    "    def __init__(self, index, timestamp, data, previous_hash):\n",
    "        # this gets initialized whenever we create a class block\n",
    "        self.index = index\n",
    "        self.timestamp = timestamp\n",
    "        self.data = data\n",
    "        self.previous_hash = previous_hash\n",
    "        self.hash = self.hash_block()\n",
    "  \n",
    "    def hash_block(self):\n",
    "        sha = hasher.sha256()\n",
    "        sha.update(str(self.index).encode('utf-8') + \n",
    "                   str(self.timestamp).encode('utf-8') +\n",
    "                   str(self.data).encode('utf-8') + \n",
    "                   #hash.update(('%s%s' % (password_salt, password)).encode('utf-8'))\n",
    "                   str(self.previous_hash).encode('utf-8'))\n",
    "        return sha.hexdigest()\n",
    "    \n",
    "\n"
   ]
  },
  {
   "cell_type": "code",
   "execution_count": 2,
   "metadata": {},
   "outputs": [],
   "source": [
    "import datetime as date\n",
    "\n",
    "def create_genesis_block():\n",
    "    # Manually construct a block with\n",
    "    # index zero and arbitrary previous hash\n",
    "    return Block(0, date.datetime.now(), \"Genesis Block\", \"0\")"
   ]
  },
  {
   "cell_type": "code",
   "execution_count": 3,
   "metadata": {},
   "outputs": [],
   "source": [
    "\n",
    "def next_block(last_block):\n",
    "    this_index = last_block.index + 1\n",
    "    this_timestamp = date.datetime.now()\n",
    "    this_data = \"Hey! I'm block \" + str(this_index)\n",
    "    this_hash = last_block.hash\n",
    "    return Block(this_index, this_timestamp, this_data, this_hash)"
   ]
  },
  {
   "cell_type": "code",
   "execution_count": 5,
   "metadata": {},
   "outputs": [
    {
     "name": "stdout",
     "output_type": "stream",
     "text": [
      "Block #1 has been added to the blockchain!\n",
      "Hash: cf2a8b97ad0ffedf0188d8fc7df2eec1f530f71e9001648d5de640bc6fb49c30\n",
      "\n",
      "Block #2 has been added to the blockchain!\n",
      "Hash: 9b8d763847f2f292231ea5ffafd56a59fdca85cc19af7083d3c373d0ec21b21f\n",
      "\n",
      "Block #3 has been added to the blockchain!\n",
      "Hash: 31e0e702c269e8ac3907353bc3e3b68eed13fbf880442892ba8ffab4ae2667d8\n",
      "\n",
      "Block #4 has been added to the blockchain!\n",
      "Hash: 9790afb9eddda5e430219d9ff3dd9de075d63c555c04599af5be05b599350eb2\n",
      "\n",
      "Block #5 has been added to the blockchain!\n",
      "Hash: 29338898618cfa79758be35d99beebfee1cf1f80bb3bd24c3f1cd0a7a80c6b07\n",
      "\n",
      "Block #6 has been added to the blockchain!\n",
      "Hash: 01c3839b16f64964b95c01d79059f2037b5893cfa402d50f5904c1abae5fc51e\n",
      "\n",
      "Block #7 has been added to the blockchain!\n",
      "Hash: 34376d9dd81bdde8f39f25be03e339de48638275717ca7fcfc5bd39369bcf8c3\n",
      "\n",
      "Block #8 has been added to the blockchain!\n",
      "Hash: 5aaefdc3e64116bf4f09071c535ef710ae06c7e0362342de85a59f8e2d5ec882\n",
      "\n",
      "Block #9 has been added to the blockchain!\n",
      "Hash: 4cb49c57197012f173eea9b6d0638c35948f27badd7d7b486343802e9f0e89ae\n",
      "\n",
      "Block #10 has been added to the blockchain!\n",
      "Hash: 205780273d5851d8136135282f297262965bc6eb497bacd95a5bb84cafad5c41\n",
      "\n",
      "Block #11 has been added to the blockchain!\n",
      "Hash: d35c904eeb8a9e6ce1b23ae8b9331748912a3f56ebeda31c3ffbb7f4b2ce4fb5\n",
      "\n",
      "Block #12 has been added to the blockchain!\n",
      "Hash: deb19a7952794309da342c29bd3f5cdea9c4c08bb7a9aec35f61bd43ed04ed3a\n",
      "\n",
      "Block #13 has been added to the blockchain!\n",
      "Hash: 701be9e55f7a8da50360166bae3b58cedd29085dde7560aeeab22a344036ff22\n",
      "\n",
      "Block #14 has been added to the blockchain!\n",
      "Hash: 5cc6884027cc8d81174f171dc10b3fe36635600edadb912974608ee9a77fbe86\n",
      "\n",
      "Block #15 has been added to the blockchain!\n",
      "Hash: 09756870a51f738c35fa5d1d5665aa7f594eb1f42bcdd3aea14f5e5d5257e79e\n",
      "\n",
      "Block #16 has been added to the blockchain!\n",
      "Hash: db839453ecde0f9cb9b4336f9b24049ad1170ac72120d1de632deeeafde35b3d\n",
      "\n",
      "Block #17 has been added to the blockchain!\n",
      "Hash: 2034cecbb80be504f17832f65591721d649be7984a86346e002612762a9462ff\n",
      "\n",
      "Block #18 has been added to the blockchain!\n",
      "Hash: 706eca5f2f53d709d0d87b9161731f543974679f5c911624cb9fbe801fdf48c8\n",
      "\n",
      "Block #19 has been added to the blockchain!\n",
      "Hash: 9c916c35e4014dfb4449afea6045973ab52728cbaeffcd50e012ee083c8443c4\n",
      "\n",
      "Block #20 has been added to the blockchain!\n",
      "Hash: 726deb62468438a3585903211a15c8fd1ec4913c63373d539c00ed5583ed3aa4\n",
      "\n",
      "Block #21 has been added to the blockchain!\n",
      "Hash: a181629c2ac11e3b1283bab62abd02ba6459a4f81f2b4275e2431ae607706233\n",
      "\n",
      "Block #22 has been added to the blockchain!\n",
      "Hash: 08f5d69d8d524cea1c86e672d3c7c6241448cfb90282ce6123494779cd6fa3c2\n",
      "\n",
      "Block #23 has been added to the blockchain!\n",
      "Hash: b18390b7240bf5f783514487facfe2199a821c74149c5157fff50f09b686ff07\n",
      "\n",
      "Block #24 has been added to the blockchain!\n",
      "Hash: 7e580b33b6995c34ca655f309ff1c4424813fce5a660b89e078750a7d9950846\n",
      "\n",
      "Block #25 has been added to the blockchain!\n",
      "Hash: 27987c120eea6eee27682eed6996699f0f7552f2b9ed31fd9ad1b6aabd75c36f\n",
      "\n",
      "Block #26 has been added to the blockchain!\n",
      "Hash: 854e3d850827fa2fc0ad5901e08b9cfeff343f5ebb2aa6c82d730a374c8ff169\n",
      "\n",
      "Block #27 has been added to the blockchain!\n",
      "Hash: 3c69053d81f3e9eb0910c8bf0042f123992b9ce10595957a587332578bd84a20\n",
      "\n",
      "Block #28 has been added to the blockchain!\n",
      "Hash: f5c350d1bba915447f17737e79001c9cad4b2ec2a6d01d2091a7575a2961dcbf\n",
      "\n",
      "Block #29 has been added to the blockchain!\n",
      "Hash: 2261227153728b5ad2058098fd35fb10b78c12b2225f17db7e02d8e132736829\n",
      "\n"
     ]
    }
   ],
   "source": [
    "\n",
    "# Create the blockchain and add the genesis block\n",
    "blockchain = [create_genesis_block()]\n",
    "previous_block = blockchain[0]\n",
    "\n",
    "# How many blocks should we add to the chain\n",
    "# after the genesis block\n",
    "num_of_blocks_to_add = 30\n",
    "\n",
    "# Add blocks to the chain\n",
    "for i in range(1, num_of_blocks_to_add):\n",
    "    block_to_add = next_block(previous_block)\n",
    "    blockchain.append(block_to_add)\n",
    "    previous_block = block_to_add\n",
    "    # Tell everyone about it!\n",
    "    print (\"Block #{} has been added to the blockchain!\".format(block_to_add.index))\n",
    "    print (\"Hash: {}\\n\".format(block_to_add.hash)) "
   ]
  },
  {
   "cell_type": "code",
   "execution_count": 9,
   "metadata": {},
   "outputs": [
    {
     "data": {
      "text/plain": [
       "'2261227153728b5ad2058098fd35fb10b78c12b2225f17db7e02d8e132736829'"
      ]
     },
     "execution_count": 9,
     "metadata": {},
     "output_type": "execute_result"
    }
   ],
   "source": [
    "blockchain[29].hash"
   ]
  },
  {
   "cell_type": "code",
   "execution_count": 11,
   "metadata": {},
   "outputs": [],
   "source": [
    "#Next Class"
   ]
  },
  {
   "cell_type": "markdown",
   "metadata": {},
   "source": [
    "PS C:\\Users\\xxx.XXX> curl.exe \"http://localhost:5000/txion\" -H \"Content-Type: application/json\" -d '{\\\"from\\\":\\\"akjflw\\\"\n",
    ", \\\"to\\\":\\\"fjlakdj\\\", \\\"amount\\\": 33333333}'\n",
    "Transaction submission successful\n",
    "PS C:\\Users\\xxx.XXX>"
   ]
  },
  {
   "cell_type": "markdown",
   "metadata": {},
   "source": [
    "Transaction submission successful\n",
    "PS C:\\Users\\xxx.XXX> curl.exe localhost:5000/mine\n",
    "{\"index\": 1, \"data\": {\"transactions\": [{\"to\": \"fjlakdj\", \"amount\": 33333333, \"from\": \"akjflw\"}, {\"to\": \"q3nf394hjg-rando\n",
    "m-miner-address-34nf3i4nflkn3oi\", \"amount\": 1, \"from\": \"network\"}], \"proof-of-work\": 18}, \"hash\": \"8147405df8157b6db4a0c\n",
    "1c98750a4ff2b98104a276442e78e1ad1719b9ecd1c\", \"timestamp\": \"2018-02-26 13:07:54.887000\"}\n",
    "PS C:\\Users\\xxx.XXX>\n"
   ]
  },
  {
   "cell_type": "code",
   "execution_count": 12,
   "metadata": {},
   "outputs": [],
   "source": [
    "\n",
    "last_block = blockchain[19]\n",
    "this_index = last_block.index + 1\n",
    "this_timestamp = date.datetime.now()\n",
    "this_data = \"Hey! It is pain to add a new block\" + str(this_index)\n",
    "this_hash = last_block.hash\n",
    "currentblock = Block(this_index, this_timestamp, this_data, this_hash)\n",
    "blockchain.append(currentblock)"
   ]
  },
  {
   "cell_type": "code",
   "execution_count": 13,
   "metadata": {},
   "outputs": [
    {
     "data": {
      "text/plain": [
       "'Hey! It is pain to add a new block20'"
      ]
     },
     "execution_count": 13,
     "metadata": {},
     "output_type": "execute_result"
    }
   ],
   "source": [
    "blockchain[20].data"
   ]
  },
  {
   "cell_type": "code",
   "execution_count": 14,
   "metadata": {},
   "outputs": [],
   "source": [
    "\n",
    "last_block = blockchain[20]\n",
    "this_index = last_block.index + 1\n",
    "this_timestamp = date.datetime.now()\n",
    "this_data = \"Hey! It is pain to add a new block\" + str(this_index)\n",
    "this_hash = last_block.hash\n",
    "currentblock = Block(this_index, this_timestamp, this_data, this_hash)\n",
    "blockchain.append(currentblock)"
   ]
  },
  {
   "cell_type": "code",
   "execution_count": 15,
   "metadata": {},
   "outputs": [
    {
     "data": {
      "text/plain": [
       "'Hey! It is pain to add a new block21'"
      ]
     },
     "execution_count": 15,
     "metadata": {},
     "output_type": "execute_result"
    }
   ],
   "source": [
    "blockchain[21].data"
   ]
  },
  {
   "cell_type": "code",
   "execution_count": null,
   "metadata": {},
   "outputs": [],
   "source": []
  }
 ],
 "metadata": {
  "kernelspec": {
   "display_name": "Python 3",
   "language": "python",
   "name": "python3"
  },
  "language_info": {
   "codemirror_mode": {
    "name": "ipython",
    "version": 3
   },
   "file_extension": ".py",
   "mimetype": "text/x-python",
   "name": "python",
   "nbconvert_exporter": "python",
   "pygments_lexer": "ipython3",
   "version": "3.5.4"
  }
 },
 "nbformat": 4,
 "nbformat_minor": 2
}
