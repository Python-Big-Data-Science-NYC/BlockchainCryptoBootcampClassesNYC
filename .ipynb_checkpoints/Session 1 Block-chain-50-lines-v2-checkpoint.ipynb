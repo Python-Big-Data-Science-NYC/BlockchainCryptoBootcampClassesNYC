{
 "cells": [
  {
   "cell_type": "code",
   "execution_count": 1,
   "metadata": {},
   "outputs": [],
   "source": [
    "import hashlib as hasher\n",
    "import hashlib\n",
    "\n",
    "\n",
    "class Block:\n",
    "    def __init__(self, index, timestamp, data, previous_hash):\n",
    "        # this gets initialized whenever we create a class block\n",
    "        self.index = index\n",
    "        self.timestamp = timestamp\n",
    "        self.data = data\n",
    "        self.previous_hash = previous_hash\n",
    "        self.hash = self.hash_block()\n",
    "  \n",
    "    def hash_block(self):\n",
    "        sha = hasher.sha256()\n",
    "        sha.update(str(self.index).encode('utf-8') + \n",
    "                   str(self.timestamp).encode('utf-8') +\n",
    "                   str(self.data).encode('utf-8') + \n",
    "                   #hash.update(('%s%s' % (password_salt, password)).encode('utf-8'))\n",
    "                   str(self.previous_hash).encode('utf-8'))\n",
    "        return sha.hexdigest()\n",
    "    \n",
    "\n"
   ]
  },
  {
   "cell_type": "code",
   "execution_count": 2,
   "metadata": {},
   "outputs": [],
   "source": [
    "import datetime as date\n",
    "\n",
    "def create_genesis_block():\n",
    "    # Manually construct a block with\n",
    "    # index zero and arbitrary previous hash\n",
    "    return Block(0, date.datetime.now(), \"Genesis Block\", \"0\")"
   ]
  },
  {
   "cell_type": "code",
   "execution_count": 3,
   "metadata": {},
   "outputs": [],
   "source": [
    "#x = create_genesis_block()\n",
    "#x.data"
   ]
  },
  {
   "cell_type": "code",
   "execution_count": 4,
   "metadata": {},
   "outputs": [],
   "source": [
    "\n",
    "def next_block(last_block):\n",
    "    this_index = last_block.index + 1\n",
    "    this_timestamp = date.datetime.now()\n",
    "    this_data = \"Hey! I'm block \" + str(this_index)\n",
    "    this_hash = last_block.hash\n",
    "    return Block(this_index, this_timestamp, this_data, this_hash)"
   ]
  },
  {
   "cell_type": "code",
   "execution_count": 5,
   "metadata": {},
   "outputs": [
    {
     "name": "stdout",
     "output_type": "stream",
     "text": [
      "Block #1 has been added to the blockchain!\n",
      "Hash: 8a09c2e9df6ca989cd9fadc712155e00c5133be5d12f2e278cf82a250990fc51\n",
      "\n",
      "Block #2 has been added to the blockchain!\n",
      "Hash: bb9ad94ca253c432ca0d07044bdd989c68324df0b79349c86a5016635967bf44\n",
      "\n",
      "Block #3 has been added to the blockchain!\n",
      "Hash: 161c2b9e9864ab7906723205c68bd343eda1ce11da36eea5b4124977016bbda1\n",
      "\n",
      "Block #4 has been added to the blockchain!\n",
      "Hash: 5ca186965c7a689336849b83a700127d14ae2ee86d7bb8ad3ad3a4197d299809\n",
      "\n",
      "Block #5 has been added to the blockchain!\n",
      "Hash: f6ed219f0e1c0471acb083b615a7164e72c65b70710866f6f02fdcbdbf6d649b\n",
      "\n",
      "Block #6 has been added to the blockchain!\n",
      "Hash: 963eb78a2225c0445eec09bb3f6db220b25525b653567c95311a44a3ba65c2e7\n",
      "\n",
      "Block #7 has been added to the blockchain!\n",
      "Hash: 07910e1cf7e77acd0f04f82f252d1e90fa8812f133d488b7409851956dbc6ad0\n",
      "\n",
      "Block #8 has been added to the blockchain!\n",
      "Hash: ff76569bcff26abcf364bf6099e3d35927cb3d6517a0d3078406be0966105d59\n",
      "\n",
      "Block #9 has been added to the blockchain!\n",
      "Hash: d0afdd36a6dc82ff3a0807695998a8ab48426d68950bf29d01d067bf267f5b70\n",
      "\n",
      "Block #10 has been added to the blockchain!\n",
      "Hash: a4d73ade55f2034fb51f43cd4e5eae760093f2f38adab5e8ac8fb5a44e09dafe\n",
      "\n",
      "Block #11 has been added to the blockchain!\n",
      "Hash: db29d79cb1e41742dc1b738103299453bbe41f939dd567290b2375a3093fa10a\n",
      "\n",
      "Block #12 has been added to the blockchain!\n",
      "Hash: 226986b650181c3282efb46995d1ea1d94350e43ad2f8f2825e50674761fbbc6\n",
      "\n",
      "Block #13 has been added to the blockchain!\n",
      "Hash: 699bb9e513096edf55f60239729ccb76ec91d0237c3ad320cdad018ca681fdc6\n",
      "\n",
      "Block #14 has been added to the blockchain!\n",
      "Hash: 78bc1da749b9f3948d68e2644bb6be73ad89b67078b5d45037270710d8ae1f0a\n",
      "\n",
      "Block #15 has been added to the blockchain!\n",
      "Hash: 43549d784a5079c4d1422b8f46be2c33433d127dc28c803150683a9f8a5bb3b1\n",
      "\n",
      "Block #16 has been added to the blockchain!\n",
      "Hash: 879244a1841c18418b2ebb6ce7bc72c1098222a08cd7e03299fe18bed79a6444\n",
      "\n",
      "Block #17 has been added to the blockchain!\n",
      "Hash: 39b0c067fa0e0059fdd29c46da9881a66bd83cb6e2472923a33c56bc803a7c1c\n",
      "\n",
      "Block #18 has been added to the blockchain!\n",
      "Hash: b021b131f8fa3e498103f51f54bfcfd33df9e4d7a7642eadbb3655be6b17e6c9\n",
      "\n",
      "Block #19 has been added to the blockchain!\n",
      "Hash: a7ab8615e1ba37d21f738f56c4f27a701c6744e4c9e235c083e46635c420fb22\n",
      "\n",
      "Block #20 has been added to the blockchain!\n",
      "Hash: 0d9ac427b9054ab6a06e5084d16ded2c3246c4c4c89cc60b21b878be4db90b80\n",
      "\n"
     ]
    }
   ],
   "source": [
    "\n",
    "# Create the blockchain and add the genesis block\n",
    "blockchain = [create_genesis_block()]\n",
    "previous_block = blockchain[0]\n",
    "\n",
    "# How many blocks should we add to the chain\n",
    "# after the genesis block\n",
    "num_of_blocks_to_add = 20\n",
    "\n",
    "# Add blocks to the chain\n",
    "for i in range(0, num_of_blocks_to_add):\n",
    "    block_to_add = next_block(previous_block)\n",
    "    blockchain.append(block_to_add)\n",
    "    previous_block = block_to_add\n",
    "    # Tell everyone about it!\n",
    "    print (\"Block #{} has been added to the blockchain!\".format(block_to_add.index))\n",
    "    print (\"Hash: {}\\n\".format(block_to_add.hash)) "
   ]
  },
  {
   "cell_type": "code",
   "execution_count": 7,
   "metadata": {},
   "outputs": [
    {
     "data": {
      "text/plain": [
       "'a7ab8615e1ba37d21f738f56c4f27a701c6744e4c9e235c083e46635c420fb22'"
      ]
     },
     "execution_count": 7,
     "metadata": {},
     "output_type": "execute_result"
    }
   ],
   "source": [
    "blockchain[19].hash"
   ]
  },
  {
   "cell_type": "code",
   "execution_count": 7,
   "metadata": {},
   "outputs": [],
   "source": [
    "#Next Class"
   ]
  },
  {
   "cell_type": "markdown",
   "metadata": {},
   "source": [
    "PS C:\\Users\\xxx.XXX> curl.exe \"http://localhost:5000/txion\" -H \"Content-Type: application/json\" -d '{\\\"from\\\":\\\"akjflw\\\"\n",
    ", \\\"to\\\":\\\"fjlakdj\\\", \\\"amount\\\": 33333333}'\n",
    "Transaction submission successful\n",
    "PS C:\\Users\\xxx.XXX>"
   ]
  },
  {
   "cell_type": "markdown",
   "metadata": {},
   "source": [
    "Transaction submission successful\n",
    "PS C:\\Users\\xxx.XXX> curl.exe localhost:5000/mine\n",
    "{\"index\": 1, \"data\": {\"transactions\": [{\"to\": \"fjlakdj\", \"amount\": 33333333, \"from\": \"akjflw\"}, {\"to\": \"q3nf394hjg-rando\n",
    "m-miner-address-34nf3i4nflkn3oi\", \"amount\": 1, \"from\": \"network\"}], \"proof-of-work\": 18}, \"hash\": \"8147405df8157b6db4a0c\n",
    "1c98750a4ff2b98104a276442e78e1ad1719b9ecd1c\", \"timestamp\": \"2018-02-26 13:07:54.887000\"}\n",
    "PS C:\\Users\\xxx.XXX>\n"
   ]
  },
  {
   "cell_type": "code",
   "execution_count": 6,
   "metadata": {},
   "outputs": [],
   "source": [
    "\n",
    "last_block = blockchain[20]\n",
    "this_index = last_block.index + 1\n",
    "this_timestamp = date.datetime.now()\n",
    "this_data = \"Hey! It is pain to add a new block\" + str(this_index)\n",
    "this_hash = last_block.hash\n",
    "currentblock = Block(this_index, this_timestamp, this_data, this_hash)\n",
    "blockchain.append(currentblock)"
   ]
  },
  {
   "cell_type": "code",
   "execution_count": 8,
   "metadata": {},
   "outputs": [
    {
     "data": {
      "text/plain": [
       "'Hey! It is pain to add a new block21'"
      ]
     },
     "execution_count": 8,
     "metadata": {},
     "output_type": "execute_result"
    }
   ],
   "source": [
    "blockchain[21].data"
   ]
  },
  {
   "cell_type": "code",
   "execution_count": null,
   "metadata": {},
   "outputs": [],
   "source": []
  }
 ],
 "metadata": {
  "kernelspec": {
   "display_name": "Python 3",
   "language": "python",
   "name": "python3"
  },
  "language_info": {
   "codemirror_mode": {
    "name": "ipython",
    "version": 3
   },
   "file_extension": ".py",
   "mimetype": "text/x-python",
   "name": "python",
   "nbconvert_exporter": "python",
   "pygments_lexer": "ipython3",
   "version": "3.5.4"
  }
 },
 "nbformat": 4,
 "nbformat_minor": 2
}
