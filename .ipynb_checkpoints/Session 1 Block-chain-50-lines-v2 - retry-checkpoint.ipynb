{
 "cells": [
  {
   "cell_type": "code",
   "execution_count": 1,
   "metadata": {},
   "outputs": [],
   "source": [
    "import hashlib as hasher\n",
    "import hashlib\n",
    "\n",
    "\n",
    "class Block:\n",
    "    def __init__(self, index, timestamp, data, previous_hash):\n",
    "        # this gets initialized whenever we create a class block\n",
    "        self.index = index\n",
    "        self.timestamp = timestamp\n",
    "        self.data = data\n",
    "        self.previous_hash = previous_hash\n",
    "        self.hash = self.hash_block()\n",
    "  \n",
    "    def hash_block(self):\n",
    "        sha = hasher.sha256()\n",
    "        sha.update(str(self.index).encode('utf-8') + \n",
    "                   str(self.timestamp).encode('utf-8') +\n",
    "                   str(self.data).encode('utf-8') + \n",
    "                   #hash.update(('%s%s' % (password_salt, password)).encode('utf-8'))\n",
    "                   str(self.previous_hash).encode('utf-8'))\n",
    "        return sha.hexdigest()\n",
    "    \n",
    "\n"
   ]
  },
  {
   "cell_type": "code",
   "execution_count": 2,
   "metadata": {},
   "outputs": [],
   "source": [
    "import datetime as date\n",
    "\n",
    "def create_genesis_block():\n",
    "    # Manually construct a block with\n",
    "    # index zero and arbitrary previous hash\n",
    "    return Block(0, date.datetime.now(), \"Genesis Block\", \"0\")"
   ]
  },
  {
   "cell_type": "code",
   "execution_count": 3,
   "metadata": {},
   "outputs": [],
   "source": [
    "#x = create_genesis_block()\n",
    "#x.data"
   ]
  },
  {
   "cell_type": "code",
   "execution_count": 4,
   "metadata": {},
   "outputs": [],
   "source": [
    "\n",
    "def next_block(last_block):\n",
    "    this_index = last_block.index + 1\n",
    "    this_timestamp = date.datetime.now()\n",
    "    this_data = \"Hey! I'm block \" + str(this_index)\n",
    "    this_hash = last_block.hash\n",
    "    return Block(this_index, this_timestamp, this_data, this_hash)"
   ]
  },
  {
   "cell_type": "code",
   "execution_count": 5,
   "metadata": {},
   "outputs": [
    {
     "name": "stdout",
     "output_type": "stream",
     "text": [
      "Block #1 has been added to the blockchain!\n",
      "Hash: c4642ad548677894e692ffd716c20f40c36bb41c523f8bf3b442e0732ba4cb27\n",
      "\n",
      "Block #2 has been added to the blockchain!\n",
      "Hash: 1eaff23fb85d15d7ee01afeac4dd1bd57d77adaef13621118acbeaea61dd08a2\n",
      "\n",
      "Block #3 has been added to the blockchain!\n",
      "Hash: 3bea59010beffedcda3222f003aec7973f873ece31c1eacd9bcd3dd0d9b01b20\n",
      "\n",
      "Block #4 has been added to the blockchain!\n",
      "Hash: fa12557a8c6fe2e466bca4c9613529df135500d9c0ed4eba5525a89356c005bb\n",
      "\n",
      "Block #5 has been added to the blockchain!\n",
      "Hash: e2e57c7d49f922d7215c509651d1b1e29c845e1a1c61fc9ca8bff229af81bc57\n",
      "\n",
      "Block #6 has been added to the blockchain!\n",
      "Hash: 83ca7a0c68a5134fcc7c489eb1d88b35a5ba1e9d050a271f68595ce233e1fb71\n",
      "\n",
      "Block #7 has been added to the blockchain!\n",
      "Hash: 91fcb2b65e24a0a3e0bfc300aff1b802b8737529bdc0d4ca1c93cbec2f03b559\n",
      "\n",
      "Block #8 has been added to the blockchain!\n",
      "Hash: 13c9faedb106c4507730584d8a82b73dbfb54e5d70946337cf1657b5e5f6e576\n",
      "\n",
      "Block #9 has been added to the blockchain!\n",
      "Hash: 9af8277d27019e5673fb9cde01ac021d1207dd52779d086e8a966dba78fe0f4c\n",
      "\n",
      "Block #10 has been added to the blockchain!\n",
      "Hash: 9a6749c41e308c0d2431bc26ea330f66c92c33ad77fa0fd0c307fcce221cf06c\n",
      "\n",
      "Block #11 has been added to the blockchain!\n",
      "Hash: e05a2f5f963e6956848298c814e3102c3e46b2b5010dae1f83aa8f809973e9dc\n",
      "\n",
      "Block #12 has been added to the blockchain!\n",
      "Hash: 782e826dd09cb3423ff4dca5f5196359f2d7d9cdf3718c66737488f772a16c71\n",
      "\n",
      "Block #13 has been added to the blockchain!\n",
      "Hash: 86a7af071306800beb3f7a4d2830daa897496c96d3f74a00a4038fd86de3ba6c\n",
      "\n",
      "Block #14 has been added to the blockchain!\n",
      "Hash: cdf1be4c30f39c8ea610ca7c381a19061a1f6de999c224d74433f466e18a60bf\n",
      "\n",
      "Block #15 has been added to the blockchain!\n",
      "Hash: 792e0260f29af969c2d2cbd2fe9a7973495c0a5b36a75591de61521b7a462536\n",
      "\n",
      "Block #16 has been added to the blockchain!\n",
      "Hash: cc7af3ea73082bced83ba04c0469fc5c3a9e783a2a3bd0bf193d6af29a41b764\n",
      "\n",
      "Block #17 has been added to the blockchain!\n",
      "Hash: 177a1ce028f2e425a284fd02264c87c1fe85cb7f57db24ebd011c6f0cc870ece\n",
      "\n",
      "Block #18 has been added to the blockchain!\n",
      "Hash: e2fa8cc7d2345ea5ae39a5cef313b1f705c6659b0fb42e1581ff77991fc31621\n",
      "\n",
      "Block #19 has been added to the blockchain!\n",
      "Hash: 57f6dea8b7a9c4cffb5e652582e836ef59da209606aa334557c1540575977d70\n",
      "\n",
      "Block #20 has been added to the blockchain!\n",
      "Hash: ce753b27a13ee0aeca374f7e091928658103b9c87e7cd807f91ca3e0571e26f4\n",
      "\n"
     ]
    }
   ],
   "source": [
    "\n",
    "# Create the blockchain and add the genesis block\n",
    "blockchain = [create_genesis_block()]\n",
    "previous_block = blockchain[0]\n",
    "\n",
    "# How many blocks should we add to the chain\n",
    "# after the genesis block\n",
    "num_of_blocks_to_add = 20\n",
    "\n",
    "# Add blocks to the chain\n",
    "for i in range(0, num_of_blocks_to_add):\n",
    "    block_to_add = next_block(previous_block)\n",
    "    blockchain.append(block_to_add)\n",
    "    previous_block = block_to_add\n",
    "    # Tell everyone about it!\n",
    "    print (\"Block #{} has been added to the blockchain!\".format(block_to_add.index))\n",
    "    print (\"Hash: {}\\n\".format(block_to_add.hash)) "
   ]
  },
  {
   "cell_type": "code",
   "execution_count": 8,
   "metadata": {},
   "outputs": [
    {
     "data": {
      "text/plain": [
       "\"Hey! I'm block 17\""
      ]
     },
     "execution_count": 8,
     "metadata": {},
     "output_type": "execute_result"
    }
   ],
   "source": [
    "blockchain[17].data"
   ]
  },
  {
   "cell_type": "code",
   "execution_count": 7,
   "metadata": {},
   "outputs": [],
   "source": [
    "#Next Class"
   ]
  },
  {
   "cell_type": "markdown",
   "metadata": {},
   "source": [
    "PS C:\\Users\\xxx.XXX> curl.exe \"http://localhost:5000/txion\" -H \"Content-Type: application/json\" -d '{\\\"from\\\":\\\"akjflw\\\"\n",
    ", \\\"to\\\":\\\"fjlakdj\\\", \\\"amount\\\": 33333333}'\n",
    "Transaction submission successful\n",
    "PS C:\\Users\\xxx.XXX>"
   ]
  },
  {
   "cell_type": "markdown",
   "metadata": {},
   "source": [
    "Transaction submission successful\n",
    "PS C:\\Users\\xxx.XXX> curl.exe localhost:5000/mine\n",
    "{\"index\": 1, \"data\": {\"transactions\": [{\"to\": \"fjlakdj\", \"amount\": 33333333, \"from\": \"akjflw\"}, {\"to\": \"q3nf394hjg-rando\n",
    "m-miner-address-34nf3i4nflkn3oi\", \"amount\": 1, \"from\": \"network\"}], \"proof-of-work\": 18}, \"hash\": \"8147405df8157b6db4a0c\n",
    "1c98750a4ff2b98104a276442e78e1ad1719b9ecd1c\", \"timestamp\": \"2018-02-26 13:07:54.887000\"}\n",
    "PS C:\\Users\\xxx.XXX>\n"
   ]
  },
  {
   "cell_type": "code",
   "execution_count": 6,
   "metadata": {},
   "outputs": [],
   "source": [
    "\n",
    "last_block = blockchain[20]\n",
    "this_index = last_block.index + 1\n",
    "this_timestamp = date.datetime.now()\n",
    "this_data = \"Hey! It is pain to add a new block\" + str(this_index)\n",
    "this_hash = last_block.hash\n",
    "currentblock = Block(this_index, this_timestamp, this_data, this_hash)\n",
    "blockchain.append(currentblock)"
   ]
  },
  {
   "cell_type": "code",
   "execution_count": 8,
   "metadata": {},
   "outputs": [
    {
     "data": {
      "text/plain": [
       "'Hey! It is pain to add a new block21'"
      ]
     },
     "execution_count": 8,
     "metadata": {},
     "output_type": "execute_result"
    }
   ],
   "source": [
    "blockchain[21].data"
   ]
  },
  {
   "cell_type": "code",
   "execution_count": null,
   "metadata": {},
   "outputs": [],
   "source": []
  }
 ],
 "metadata": {
  "kernelspec": {
   "display_name": "Python 3",
   "language": "python",
   "name": "python3"
  },
  "language_info": {
   "codemirror_mode": {
    "name": "ipython",
    "version": 3
   },
   "file_extension": ".py",
   "mimetype": "text/x-python",
   "name": "python",
   "nbconvert_exporter": "python",
   "pygments_lexer": "ipython3",
   "version": "3.5.4"
  }
 },
 "nbformat": 4,
 "nbformat_minor": 2
}
