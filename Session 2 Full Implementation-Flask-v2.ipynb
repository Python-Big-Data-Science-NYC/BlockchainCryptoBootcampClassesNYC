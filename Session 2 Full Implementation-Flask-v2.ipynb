{
 "cells": [
  {
   "cell_type": "code",
   "execution_count": 2,
   "metadata": {
    "scrolled": false
   },
   "outputs": [
    {
     "name": "stderr",
     "output_type": "stream",
     "text": [
      " * Running on http://127.0.0.1:5000/ (Press CTRL+C to quit)\n",
      "127.0.0.1 - - [15/Mar/2018 15:27:41] \"POST /txion HTTP/1.1\" 200 -\n"
     ]
    },
    {
     "name": "stdout",
     "output_type": "stream",
     "text": [
      "New transaction\n",
      "FROM: b'akjflw'\n",
      "TO: b'fjlakdj'\n",
      "AMOUNT: 3\n",
      "\n"
     ]
    },
    {
     "name": "stderr",
     "output_type": "stream",
     "text": [
      "127.0.0.1 - - [15/Mar/2018 15:27:45] \"GET /mine HTTP/1.1\" 200 -\n"
     ]
    },
    {
     "name": "stdout",
     "output_type": "stream",
     "text": [
      "[<__main__.Block object at 0x7f5a3782f5f8>]\n"
     ]
    },
    {
     "name": "stderr",
     "output_type": "stream",
     "text": [
      "127.0.0.1 - - [15/Mar/2018 15:27:51] \"GET /blocks HTTP/1.1\" 200 -\n",
      "127.0.0.1 - - [15/Mar/2018 15:28:07] \"POST /txion HTTP/1.1\" 200 -\n"
     ]
    },
    {
     "name": "stdout",
     "output_type": "stream",
     "text": [
      "New transaction\n",
      "FROM: b'akjfldsadaw'\n",
      "TO: b'fjldsadsaakdj'\n",
      "AMOUNT: 3\n",
      "\n"
     ]
    },
    {
     "name": "stderr",
     "output_type": "stream",
     "text": [
      "127.0.0.1 - - [15/Mar/2018 15:28:10] \"GET /mine HTTP/1.1\" 200 -\n"
     ]
    },
    {
     "name": "stdout",
     "output_type": "stream",
     "text": [
      "[<__main__.Block object at 0x7f5a3782f5f8>, <__main__.Block object at 0x7f5a3003bcf8>]\n"
     ]
    },
    {
     "name": "stderr",
     "output_type": "stream",
     "text": [
      "127.0.0.1 - - [15/Mar/2018 15:28:13] \"GET /blocks HTTP/1.1\" 200 -\n",
      "127.0.0.1 - - [15/Mar/2018 15:28:30] \"POST /txion HTTP/1.1\" 200 -\n"
     ]
    },
    {
     "name": "stdout",
     "output_type": "stream",
     "text": [
      "New transaction\n",
      "FROM: b'akjfldsfdfsdfsdfsadaw'\n",
      "TO: b'fdsdsjldsadsaakdj'\n",
      "AMOUNT: 3000\n",
      "\n"
     ]
    },
    {
     "name": "stderr",
     "output_type": "stream",
     "text": [
      "127.0.0.1 - - [15/Mar/2018 15:28:34] \"GET /mine HTTP/1.1\" 200 -\n"
     ]
    },
    {
     "name": "stdout",
     "output_type": "stream",
     "text": [
      "[<__main__.Block object at 0x7f5a3782f5f8>, <__main__.Block object at 0x7f5a3003bcf8>, <__main__.Block object at 0x7f5a377d0748>]\n"
     ]
    },
    {
     "name": "stderr",
     "output_type": "stream",
     "text": [
      "127.0.0.1 - - [15/Mar/2018 15:28:37] \"GET /blocks HTTP/1.1\" 200 -\n"
     ]
    }
   ],
   "source": [
    "from flask import Flask, jsonify\n",
    "from flask import request\n",
    "import json\n",
    "import requests\n",
    "import hashlib as hasher\n",
    "import datetime as date\n",
    "node = Flask(__name__)\n",
    "\n",
    "\n",
    "# Define what a Snakecoin block is\n",
    "class Block:\n",
    "  def __init__(self, index, timestamp, data, previous_hash):\n",
    "    self.index = index\n",
    "    self.timestamp = timestamp\n",
    "    self.data = data\n",
    "    self.previous_hash = previous_hash\n",
    "    self.hash = self.hash_block()\n",
    "\n",
    "  def hash_block(self):\n",
    "    sha = hasher.sha256()\n",
    "    sha.update(str(self.index).encode('utf-8') + str(self.timestamp).encode('utf-8') + str(self.data).encode('utf-8') +  str(self.previous_hash).encode('utf-8'))\n",
    "    return sha.hexdigest()\n",
    "\n",
    "# Generate genesis block\n",
    "def create_genesis_block():\n",
    "  # Manually construct a block with\n",
    "  # index zero and arbitrary previous hash\n",
    "  return Block(0, date.datetime.now(), {\n",
    "    \"proof-of-work\": 9,\n",
    "    \"transactions\": None\n",
    "  }, \"0\")\n",
    "\n",
    "# A completely random address of the owner of this node\n",
    "miner_address = \"q3nf394hjg-random-miner-address-34nf3i4nflkn3oi\"\n",
    "# This node's blockchain copy\n",
    "blockchain = []\n",
    "blockchain.append(create_genesis_block())\n",
    "# Store the transactions that\n",
    "# this node has in a list\n",
    "this_nodes_transactions = []\n",
    "# Store the url data of every\n",
    "# other node in the network\n",
    "# so that we can communicate\n",
    "# with them\n",
    "peer_nodes = []\n",
    "# A variable to deciding if we're mining or not\n",
    "mining = True\n",
    "\n",
    "@node.route('/txion', methods=['POST'])\n",
    "def transaction():\n",
    "  # On each new POST request,\n",
    "  # we extract the transaction data\n",
    "  new_txion = request.get_json()\n",
    "  # Then we add the transaction to our list\n",
    "  this_nodes_transactions.append(new_txion)\n",
    "  # Because the transaction was successfully\n",
    "  # submitted, we log it to our console\n",
    "  print (\"New transaction\")\n",
    "  print (\"FROM: {}\".format(new_txion['from'].encode('ascii','replace')))\n",
    "  print (\"TO: {}\".format(new_txion['to'].encode('ascii','replace')))\n",
    "  print (\"AMOUNT: {}\\n\".format(new_txion['amount']))\n",
    "  # Then we let the client know it worked out\n",
    "  return (\"Transaction submission successful\\n\")\n",
    "\n",
    "@node.route('/blocks', methods=['GET'])\n",
    "def get_blocks():\n",
    "  chain_to_send = blockchain\n",
    "  blocklist = \"\"\n",
    "  for i in range(len(chain_to_send)):\n",
    "    block = chain_to_send[i]\n",
    "    block_index = str(block.index)\n",
    "    block_timestamp = str(block.timestamp)\n",
    "    block_data = str(block.data)\n",
    "    block_hash = block.hash\n",
    "    assembled = json.dumps({\n",
    "    \"index\": block_index,\n",
    "    \"timestamp\": block_timestamp,\n",
    "    \"data\": block_data,\n",
    "    \"hash\": block_hash\n",
    "    })\n",
    "    if blocklist == \"\":\n",
    "      blocklist = assembled\n",
    "    else:\n",
    "      blocklist += assembled\n",
    "  return blocklist\n",
    "\n",
    "def find_new_chains():\n",
    "  # Get the blockchains of every\n",
    "  # other node\n",
    "  other_chains = []\n",
    "  for node_url in peer_nodes:\n",
    "    # Get their chains using a GET request\n",
    "    block = requests.get(node_url + \"/blocks\").content\n",
    "    # Convert the JSON object to a Python dictionary\n",
    "    block = json.loads(block)\n",
    "    # Add it to our list\n",
    "    other_chains.append(block)\n",
    "  return other_chains\n",
    "\n",
    "def consensus():\n",
    "  # Get the blocks from other nodes\n",
    "  other_chains = find_new_chains()\n",
    "  # If our chain isn't longest,\n",
    "  # then we store the longest chain\n",
    "  longest_chain = blockchain\n",
    "  for chain in other_chains:\n",
    "    if len(longest_chain) < len(chain):\n",
    "      longest_chain = chain\n",
    "  # If the longest chain isn't ours,\n",
    "  # then we stop mining and set\n",
    "  # our chain to the longest one\n",
    "  blockchain = longest_chain\n",
    "\n",
    "def proof_of_work(last_proof):\n",
    "  # Create a variable that we will use to find\n",
    "  # our next proof of work\n",
    "  incrementor = last_proof + 1\n",
    "  # Keep incrementing the incrementor until\n",
    "  # it's equal to a number divisible by 9\n",
    "  # and the proof of work of the previous\n",
    "  # block in the chain\n",
    "  while not (incrementor % 9 == 0 and incrementor % last_proof == 0):\n",
    "    incrementor += 1\n",
    "  # Once that number is found,\n",
    "  # we can return it as a proof\n",
    "  # of our work\n",
    "  return incrementor\n",
    "\n",
    "@node.route('/mine', methods = ['GET'])\n",
    "def mine():\n",
    "  # Get the last proof of work\n",
    "  print (blockchain)\n",
    "  last_block = blockchain[len(blockchain) - 1]\n",
    "  last_proof = last_block.data['proof-of-work']\n",
    "  # Find the proof of work for\n",
    "  # the current block being mined\n",
    "  # Note: The program will hang here until a new\n",
    "  #       proof of work is found\n",
    "  proof = proof_of_work(last_proof)\n",
    "  # Once we find a valid proof of work,\n",
    "  # we know we can mine a block so\n",
    "  # we reward the miner by adding a transaction\n",
    "  this_nodes_transactions.append(\n",
    "    { \"from\": \"network\", \"to\": miner_address, \"amount\": 1 }\n",
    "  )\n",
    "  # Now we can gather the data needed\n",
    "  # to create the new block\n",
    "  new_block_data = {\n",
    "    \"proof-of-work\": proof,\n",
    "    \"transactions\": list(this_nodes_transactions)\n",
    "  }\n",
    "  new_block_index = last_block.index + 1\n",
    "  new_block_timestamp = this_timestamp = date.datetime.now()\n",
    "  last_block_hash = last_block.hash\n",
    "  # Empty transaction list\n",
    "  this_nodes_transactions[:] = []\n",
    "  # Now create the\n",
    "  # new block!\n",
    "  mined_block = Block(\n",
    "    new_block_index,\n",
    "    new_block_timestamp,\n",
    "    new_block_data,\n",
    "    last_block_hash\n",
    "  )\n",
    "  blockchain.append(mined_block)\n",
    "  # Let the client know we mined a block\n",
    "  return json.dumps({\n",
    "      \"index\": new_block_index,\n",
    "      \"timestamp\": str(new_block_timestamp),\n",
    "      \"data\": new_block_data,\n",
    "      \"hash\": last_block_hash\n",
    "  }) + \"\\n\"\n",
    "\n",
    "node.run()\n"
   ]
  },
  {
   "cell_type": "markdown",
   "metadata": {
    "collapsed": true
   },
   "source": [
    "Source: https://gist.github.com/aunyks/47d157f8bc7d1829a729c2a6a919c173\n",
    "\n",
    "New Code\n",
    "\n",
    "@node.route('/blocks', methods=['GET'])\n",
    "def get_blocks():\n",
    "  chain_to_send = blockchain\n",
    "  blocklist = \"\"\n",
    "  for i in range(len(chain_to_send)):\n",
    "    block = chain_to_send[i]\n",
    "    block_index = str(block.index)\n",
    "    block_timestamp = str(block.timestamp)\n",
    "    block_data = str(block.data)\n",
    "    block_hash = block.hash\n",
    "    assembled = json.dumps({\n",
    "    \"index\": block_index,\n",
    "    \"timestamp\": block_timestamp,\n",
    "    \"data\": block_data,\n",
    "    \"hash\": block_hash\n",
    "    })\n",
    "    if blocklist == \"\":\n",
    "      blocklist = assembled\n",
    "    else:\n",
    "      blocklist += assembled\n",
    "  return blocklist\n",
    "\n",
    "\n",
    "Old Code\n",
    "\n",
    "@node.route('/blocks', methods=['GET'])\n",
    "def get_blocks():\n",
    "  chain_to_send = blockchain\n",
    "  # Convert our blocks into dictionaries\n",
    "  # so we can send them as json objects later\n",
    "  for i in range(len(chain_to_send)):\n",
    "    block = chain_to_send[i]\n",
    "    block_index = str(block.index)\n",
    "    block_timestamp = str(block.timestamp)\n",
    "    block_data = str(block.data)\n",
    "    block_hash = block.hash\n",
    "    chain_to_send[i] = {\n",
    "      \"index\": block_index,\n",
    "      \"timestamp\": block_timestamp,\n",
    "      \"data\": block_data,\n",
    "      \"hash\": block_hash\n",
    "    }\n",
    "  chain_to_send = json.dumps(chain_to_send)\n",
    "return chain_to_send\n"
   ]
  },
  {
   "cell_type": "code",
   "execution_count": 5,
   "metadata": {},
   "outputs": [
    {
     "ename": "IndentationError",
     "evalue": "unexpected indent (<ipython-input-5-b2af618fcb7c>, line 3)",
     "output_type": "error",
     "traceback": [
      "\u001b[0;36m  File \u001b[0;32m\"<ipython-input-5-b2af618fcb7c>\"\u001b[0;36m, line \u001b[0;32m3\u001b[0m\n\u001b[0;31m    print (x)\u001b[0m\n\u001b[0m    ^\u001b[0m\n\u001b[0;31mIndentationError\u001b[0m\u001b[0;31m:\u001b[0m unexpected indent\n"
     ]
    }
   ],
   "source": [
    "for x in [1,2,3]:\n",
    "    print (x)\n",
    "                print (x)"
   ]
  },
  {
   "cell_type": "code",
   "execution_count": null,
   "metadata": {},
   "outputs": [],
   "source": []
  }
 ],
 "metadata": {
  "kernelspec": {
   "display_name": "Python 3",
   "language": "python",
   "name": "python3"
  },
  "language_info": {
   "codemirror_mode": {
    "name": "ipython",
    "version": 3
   },
   "file_extension": ".py",
   "mimetype": "text/x-python",
   "name": "python",
   "nbconvert_exporter": "python",
   "pygments_lexer": "ipython3",
   "version": "3.5.4"
  }
 },
 "nbformat": 4,
 "nbformat_minor": 2
}
